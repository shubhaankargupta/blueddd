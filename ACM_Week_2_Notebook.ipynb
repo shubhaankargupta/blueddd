{
  "nbformat": 4,
  "nbformat_minor": 0,
  "metadata": {
    "colab": {
      "provenance": [],
      "authorship_tag": "ABX9TyPY0LBjHlK3GK7Rkf4C371c",
      "include_colab_link": true
    },
    "kernelspec": {
      "name": "python3",
      "display_name": "Python 3"
    },
    "language_info": {
      "name": "python"
    }
  },
  "cells": [
    {
      "cell_type": "markdown",
      "metadata": {
        "id": "view-in-github",
        "colab_type": "text"
      },
      "source": [
        "<a href=\"https://colab.research.google.com/github/shubhaankargupta/blueddddd/blob/main/ACM_Week_2_Notebook.ipynb\" target=\"_parent\"><img src=\"https://colab.research.google.com/assets/colab-badge.svg\" alt=\"Open In Colab\"/></a>"
      ]
    },
    {
      "cell_type": "markdown",
      "source": [
        "# Processing Images"
      ],
      "metadata": {
        "id": "MgbDAI56sA3h"
      }
    },
    {
      "cell_type": "code",
      "execution_count": 1,
      "metadata": {
        "colab": {
          "base_uri": "https://localhost:8080/"
        },
        "id": "61VrCj29r99_",
        "outputId": "ad3a1b00-32a6-4116-a689-2c97efa7414b"
      },
      "outputs": [
        {
          "output_type": "stream",
          "name": "stdout",
          "text": [
            "--2024-01-31 22:43:31--  https://upload.wikimedia.org/wikipedia/commons/thumb/e/ec/Mona_Lisa%2C_by_Leonardo_da_Vinci%2C_from_C2RMF_retouched.jpg/640px-Mona_Lisa%2C_by_Leonardo_da_Vinci%2C_from_C2RMF_retouched.jpg\n",
            "Resolving upload.wikimedia.org (upload.wikimedia.org)... 198.35.26.112, 2620:0:863:ed1a::2:b\n",
            "Connecting to upload.wikimedia.org (upload.wikimedia.org)|198.35.26.112|:443... connected.\n",
            "HTTP request sent, awaiting response... 200 OK\n",
            "Length: 202433 (198K) [image/jpeg]\n",
            "Saving to: ‘640px-Mona_Lisa,_by_Leonardo_da_Vinci,_from_C2RMF_retouched.jpg’\n",
            "\n",
            "\r          640px-Mon   0%[                    ]       0  --.-KB/s               \r640px-Mona_Lisa,_by 100%[===================>] 197.69K  --.-KB/s    in 0.06s   \n",
            "\n",
            "2024-01-31 22:43:31 (3.18 MB/s) - ‘640px-Mona_Lisa,_by_Leonardo_da_Vinci,_from_C2RMF_retouched.jpg’ saved [202433/202433]\n",
            "\n"
          ]
        }
      ],
      "source": [
        "!wget https://upload.wikimedia.org/wikipedia/commons/thumb/e/ec/Mona_Lisa%2C_by_Leonardo_da_Vinci%2C_from_C2RMF_retouched.jpg/640px-Mona_Lisa%2C_by_Leonardo_da_Vinci%2C_from_C2RMF_retouched.jpg"
      ]
    },
    {
      "cell_type": "markdown",
      "source": [
        "\n",
        "You may want to run\n",
        "```\n",
        "!pip install PIL\n",
        "```\n",
        "\n"
      ],
      "metadata": {
        "id": "3OOh0n8Ssmx_"
      }
    },
    {
      "cell_type": "code",
      "source": [
        "from matplotlib import pyplot as plt\n",
        "from numpy import asarray\n",
        "from PIL import Image\n",
        "\n",
        "image = Image.open('/content/640px-Mona_Lisa,_by_Leonardo_da_Vinci,_from_C2RMF_retouched.jpg')\n",
        "matrix = asarray(image)\n",
        "print(matrix)"
      ],
      "metadata": {
        "colab": {
          "base_uri": "https://localhost:8080/"
        },
        "id": "vNifIpmTsPp2",
        "outputId": "87998ae0-fb56-4822-f6c4-686eb04aef8e"
      },
      "execution_count": 25,
      "outputs": [
        {
          "output_type": "stream",
          "name": "stdout",
          "text": [
            "[[[104 116  92]\n",
            "  [ 82  94  70]\n",
            "  [107 119  99]\n",
            "  ...\n",
            "  [ 93  97  83]\n",
            "  [114 115 107]\n",
            "  [ 92  92  84]]\n",
            "\n",
            " [[115 127 103]\n",
            "  [ 97 109  85]\n",
            "  [ 96 108  86]\n",
            "  ...\n",
            "  [ 86  90  76]\n",
            "  [ 83  85  74]\n",
            "  [ 72  72  62]]\n",
            "\n",
            " [[ 90 103  77]\n",
            "  [ 87  99  75]\n",
            "  [ 94 106  84]\n",
            "  ...\n",
            "  [ 79  86  68]\n",
            "  [ 62  64  51]\n",
            "  [ 38  38  26]]\n",
            "\n",
            " ...\n",
            "\n",
            " [[118 112 126]\n",
            "  [ 82  75  91]\n",
            "  [ 46  38  59]\n",
            "  ...\n",
            "  [ 36  32  47]\n",
            "  [140 134 148]\n",
            "  [ 40  34  46]]\n",
            "\n",
            " [[129 123 135]\n",
            "  [ 49  43  57]\n",
            "  [109 102 120]\n",
            "  ...\n",
            "  [ 33  26  42]\n",
            "  [ 72  64  79]\n",
            "  [ 35  27  42]]\n",
            "\n",
            " [[119 113 125]\n",
            "  [ 48  42  56]\n",
            "  [ 77  70  88]\n",
            "  ...\n",
            "  [117 110 126]\n",
            "  [ 37  29  44]\n",
            "  [101  93 108]]]\n"
          ]
        }
      ]
    },
    {
      "cell_type": "code",
      "source": [
        "bw = image.convert('L')\n",
        "matrix_bw = asarray(bw)\n",
        "print(matrix_bw)"
      ],
      "metadata": {
        "colab": {
          "base_uri": "https://localhost:8080/"
        },
        "id": "T3wjh_wkthP0",
        "outputId": "b7244bac-b544-4dfe-ba3e-16f479f092dc"
      },
      "execution_count": 27,
      "outputs": [
        {
          "output_type": "stream",
          "name": "stdout",
          "text": [
            "[[110  88 113 ...  94 114  91]\n",
            " [121 103 102 ...  87  83  71]\n",
            " [ 96  93 100 ...  82  62  37]\n",
            " ...\n",
            " [115  79  43 ...  35 137  37]\n",
            " [126  46 106 ...  30  68  31]\n",
            " [116  45  74 ... 114  33  97]]\n"
          ]
        }
      ]
    },
    {
      "cell_type": "code",
      "source": [
        "print(matrix[0][1])\n",
        "print(matrix_bw[0][1])"
      ],
      "metadata": {
        "colab": {
          "base_uri": "https://localhost:8080/"
        },
        "id": "latLbH72s0Ik",
        "outputId": "ca21e384-fcf0-42e8-f9da-fdbff01b860c"
      },
      "execution_count": 30,
      "outputs": [
        {
          "output_type": "stream",
          "name": "stdout",
          "text": [
            "[82 94 70]\n",
            "88\n"
          ]
        }
      ]
    },
    {
      "cell_type": "code",
      "source": [
        "bw = bw.save('bw.png')"
      ],
      "metadata": {
        "id": "LzWVGzTdwLux"
      },
      "execution_count": 31,
      "outputs": []
    },
    {
      "cell_type": "code",
      "source": [],
      "metadata": {
        "id": "OYWpbS0x3NcQ"
      },
      "execution_count": null,
      "outputs": []
    }
  ]
}